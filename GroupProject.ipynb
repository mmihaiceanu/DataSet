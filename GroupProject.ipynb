{
  "nbformat": 4,
  "nbformat_minor": 0,
  "metadata": {
    "kernelspec": {
      "display_name": "Python 3",
      "language": "python",
      "name": "python3"
    },
    "language_info": {
      "codemirror_mode": {
        "name": "ipython",
        "version": 3
      },
      "file_extension": ".py",
      "mimetype": "text/x-python",
      "name": "python",
      "nbconvert_exporter": "python",
      "pygments_lexer": "ipython3",
      "version": "3.8.6"
    },
    "colab": {
      "name": "GroupProject.ipynb",
      "provenance": [],
      "collapsed_sections": [
        "XybqPkNo1eky",
        "RS2kKwyV1ek0"
      ],
      "include_colab_link": true
    }
  },
  "cells": [
    {
      "cell_type": "markdown",
      "metadata": {
        "id": "view-in-github",
        "colab_type": "text"
      },
      "source": [
        "<a href=\"https://colab.research.google.com/github/mmihaiceanu/DataSet/blob/master/GroupProject.ipynb\" target=\"_parent\"><img src=\"https://colab.research.google.com/assets/colab-badge.svg\" alt=\"Open In Colab\"/></a>"
      ]
    },
    {
      "cell_type": "markdown",
      "metadata": {
        "id": "146WtdD11eks"
      },
      "source": [
        "### Import Libraries"
      ]
    },
    {
      "cell_type": "code",
      "metadata": {
        "id": "ti9dCLd71eks"
      },
      "source": [
        "import itertools\n",
        "import numpy as np\n",
        "import matplotlib.pyplot as plt\n",
        "from matplotlib.ticker import NullFormatter\n",
        "import pandas as pd\n",
        "import matplotlib.ticker as ticker\n",
        "from sklearn import preprocessing\n",
        "%matplotlib inline"
      ],
      "execution_count": 1,
      "outputs": []
    },
    {
      "cell_type": "code",
      "metadata": {
        "id": "_ZnFBVC81eks"
      },
      "source": [
        "from sklearn.preprocessing import OneHotEncoder, LabelEncoder\n",
        "from sklearn import feature_selection\n",
        "from sklearn import model_selection\n",
        "from sklearn import metrics\n",
        "from sklearn.base import BaseEstimator, TransformerMixin\n",
        "from sklearn.utils import check_array\n",
        "from scipy import sparse\n",
        "from sklearn.model_selection import train_test_split"
      ],
      "execution_count": 2,
      "outputs": []
    },
    {
      "cell_type": "code",
      "metadata": {
        "id": "B7dZ6n_k1eks"
      },
      "source": [
        "from sklearn.preprocessing import StandardScaler, MinMaxScaler\n",
        "from sklearn.utils import shuffle\n",
        "from sklearn.pipeline import Pipeline\n",
        "from sklearn.pipeline import FeatureUnion\n",
        "from sklearn.preprocessing import LabelEncoder\n",
        "\n",
        "from lightgbm import LGBMRegressor\n",
        "from sklearn.feature_selection import RFECV\n",
        "from sklearn.model_selection import KFold"
      ],
      "execution_count": 3,
      "outputs": []
    },
    {
      "cell_type": "code",
      "metadata": {
        "id": "F0gJ5SbX1eks"
      },
      "source": [
        "# to make this notebook's output identical at every run\n",
        "np.random.seed(42)"
      ],
      "execution_count": 4,
      "outputs": []
    },
    {
      "cell_type": "code",
      "metadata": {
        "id": "-RDqCAz_pVVt"
      },
      "source": [
        "!pip install -U -q PyDrive \n",
        "  \n",
        "from pydrive.auth import GoogleAuth \n",
        "from pydrive.drive import GoogleDrive \n",
        "from google.colab import auth \n",
        "from oauth2client.client import GoogleCredentials \n",
        "  \n",
        "  \n",
        "# Authenticate and create the PyDrive client. \n",
        "auth.authenticate_user() \n",
        "gauth = GoogleAuth() \n",
        "gauth.credentials = GoogleCredentials.get_application_default() \n",
        "drive = GoogleDrive(gauth)\n"
      ],
      "execution_count": 5,
      "outputs": []
    },
    {
      "cell_type": "markdown",
      "metadata": {
        "id": "nz_IV2DPzaRf"
      },
      "source": [
        "Import the test dataset"
      ]
    },
    {
      "cell_type": "code",
      "metadata": {
        "colab": {
          "base_uri": "https://localhost:8080/",
          "height": 206
        },
        "id": "pZ0NJnYrpVcI",
        "outputId": "869d3192-3f7e-4258-b907-dd48435d54fd"
      },
      "source": [
        "link_test='https://drive.google.com/file/d/17i9TxFAur6fv7vwr1C2eNYpDi1OM9G-c/view'\n",
        "# to get the id part of the file \n",
        "id_test = link_test.split(\"/\")[-2] \n",
        "  \n",
        "downloaded_test = drive.CreateFile({'id':id_test})  \n",
        "downloaded_test.GetContentFile('test.csv')   \n",
        "  \n",
        "df_test = pd.read_csv('test.csv') \n",
        "#print(df)\n",
        "df_test.head()"
      ],
      "execution_count": 6,
      "outputs": [
        {
          "output_type": "execute_result",
          "data": {
            "text/html": [
              "<div>\n",
              "<style scoped>\n",
              "    .dataframe tbody tr th:only-of-type {\n",
              "        vertical-align: middle;\n",
              "    }\n",
              "\n",
              "    .dataframe tbody tr th {\n",
              "        vertical-align: top;\n",
              "    }\n",
              "\n",
              "    .dataframe thead th {\n",
              "        text-align: right;\n",
              "    }\n",
              "</style>\n",
              "<table border=\"1\" class=\"dataframe\">\n",
              "  <thead>\n",
              "    <tr style=\"text-align: right;\">\n",
              "      <th></th>\n",
              "      <th>trip</th>\n",
              "      <th>date</th>\n",
              "      <th>dayPart</th>\n",
              "      <th>exWeatherTag</th>\n",
              "      <th>originLocation</th>\n",
              "      <th>destinationLocation</th>\n",
              "      <th>distance</th>\n",
              "      <th>type</th>\n",
              "      <th>weight</th>\n",
              "      <th>packageType</th>\n",
              "      <th>carrier</th>\n",
              "    </tr>\n",
              "  </thead>\n",
              "  <tbody>\n",
              "    <tr>\n",
              "      <th>0</th>\n",
              "      <td>t333282728025</td>\n",
              "      <td>2017-09-27</td>\n",
              "      <td>night</td>\n",
              "      <td>NaN</td>\n",
              "      <td>S2</td>\n",
              "      <td>D8</td>\n",
              "      <td>2000</td>\n",
              "      <td>NaN</td>\n",
              "      <td>50</td>\n",
              "      <td>NaN</td>\n",
              "      <td>C</td>\n",
              "    </tr>\n",
              "    <tr>\n",
              "      <th>1</th>\n",
              "      <td>t35583500660</td>\n",
              "      <td>2017-12-12</td>\n",
              "      <td>day</td>\n",
              "      <td>snow</td>\n",
              "      <td>S2</td>\n",
              "      <td>D1</td>\n",
              "      <td>600</td>\n",
              "      <td>NaN</td>\n",
              "      <td>22</td>\n",
              "      <td>NaN</td>\n",
              "      <td>A</td>\n",
              "    </tr>\n",
              "    <tr>\n",
              "      <th>2</th>\n",
              "      <td>t117664376784</td>\n",
              "      <td>2018-11-18</td>\n",
              "      <td>day</td>\n",
              "      <td>NaN</td>\n",
              "      <td>S7</td>\n",
              "      <td>D1</td>\n",
              "      <td>1600</td>\n",
              "      <td>expedited</td>\n",
              "      <td>30</td>\n",
              "      <td>NaN</td>\n",
              "      <td>D</td>\n",
              "    </tr>\n",
              "    <tr>\n",
              "      <th>3</th>\n",
              "      <td>t261320757828</td>\n",
              "      <td>2019-11-18</td>\n",
              "      <td>day</td>\n",
              "      <td>NaN</td>\n",
              "      <td>S5</td>\n",
              "      <td>D6</td>\n",
              "      <td>2200</td>\n",
              "      <td>NaN</td>\n",
              "      <td>32</td>\n",
              "      <td>NaN</td>\n",
              "      <td>B</td>\n",
              "    </tr>\n",
              "    <tr>\n",
              "      <th>4</th>\n",
              "      <td>t147086054909</td>\n",
              "      <td>2019-06-02</td>\n",
              "      <td>night</td>\n",
              "      <td>heat</td>\n",
              "      <td>S6</td>\n",
              "      <td>D7</td>\n",
              "      <td>2600</td>\n",
              "      <td>NaN</td>\n",
              "      <td>7</td>\n",
              "      <td>NaN</td>\n",
              "      <td>B</td>\n",
              "    </tr>\n",
              "  </tbody>\n",
              "</table>\n",
              "</div>"
            ],
            "text/plain": [
              "            trip        date dayPart  ... weight packageType carrier\n",
              "0  t333282728025  2017-09-27   night  ...     50         NaN       C\n",
              "1   t35583500660  2017-12-12     day  ...     22         NaN       A\n",
              "2  t117664376784  2018-11-18     day  ...     30         NaN       D\n",
              "3  t261320757828  2019-11-18     day  ...     32         NaN       B\n",
              "4  t147086054909  2019-06-02   night  ...      7         NaN       B\n",
              "\n",
              "[5 rows x 11 columns]"
            ]
          },
          "metadata": {
            "tags": []
          },
          "execution_count": 6
        }
      ]
    },
    {
      "cell_type": "markdown",
      "metadata": {
        "id": "YH_gFVsE3AeW"
      },
      "source": [
        "Import the train set"
      ]
    },
    {
      "cell_type": "code",
      "metadata": {
        "colab": {
          "base_uri": "https://localhost:8080/",
          "height": 206
        },
        "id": "em7f0g36pVY5",
        "outputId": "0b83c33f-71a5-4b82-a0bb-729e88bd2b5c"
      },
      "source": [
        "link_train = 'https://drive.google.com/file/d/1kvysfS4SQ-xhEXf8Qgf-rtUKAjeEBtPh/view'\n",
        "\n",
        "# to get the id part of the file \n",
        "id_train = link_train.split(\"/\")[-2] \n",
        "  \n",
        "downloaded_train = drive.CreateFile({'id':id_train})  \n",
        "downloaded_train.GetContentFile('train.csv')   \n",
        "  \n",
        "df = pd.read_csv('train.csv') \n",
        "#print(df)\n",
        "df.head()"
      ],
      "execution_count": 7,
      "outputs": [
        {
          "output_type": "execute_result",
          "data": {
            "text/html": [
              "<div>\n",
              "<style scoped>\n",
              "    .dataframe tbody tr th:only-of-type {\n",
              "        vertical-align: middle;\n",
              "    }\n",
              "\n",
              "    .dataframe tbody tr th {\n",
              "        vertical-align: top;\n",
              "    }\n",
              "\n",
              "    .dataframe thead th {\n",
              "        text-align: right;\n",
              "    }\n",
              "</style>\n",
              "<table border=\"1\" class=\"dataframe\">\n",
              "  <thead>\n",
              "    <tr style=\"text-align: right;\">\n",
              "      <th></th>\n",
              "      <th>trip</th>\n",
              "      <th>date</th>\n",
              "      <th>dayPart</th>\n",
              "      <th>exWeatherTag</th>\n",
              "      <th>originLocation</th>\n",
              "      <th>destinationLocation</th>\n",
              "      <th>distance</th>\n",
              "      <th>type</th>\n",
              "      <th>weight</th>\n",
              "      <th>packageType</th>\n",
              "      <th>carrier</th>\n",
              "      <th>cost</th>\n",
              "    </tr>\n",
              "  </thead>\n",
              "  <tbody>\n",
              "    <tr>\n",
              "      <th>0</th>\n",
              "      <td>t52712528</td>\n",
              "      <td>2017-09-06</td>\n",
              "      <td>night</td>\n",
              "      <td>NaN</td>\n",
              "      <td>S4</td>\n",
              "      <td>D7</td>\n",
              "      <td>2200</td>\n",
              "      <td>expedited</td>\n",
              "      <td>50</td>\n",
              "      <td>NaN</td>\n",
              "      <td>D</td>\n",
              "      <td>68.413152</td>\n",
              "    </tr>\n",
              "    <tr>\n",
              "      <th>1</th>\n",
              "      <td>t29859381</td>\n",
              "      <td>2017-10-21</td>\n",
              "      <td>night</td>\n",
              "      <td>NaN</td>\n",
              "      <td>S8</td>\n",
              "      <td>D1</td>\n",
              "      <td>1800</td>\n",
              "      <td>NaN</td>\n",
              "      <td>12</td>\n",
              "      <td>NaN</td>\n",
              "      <td>B</td>\n",
              "      <td>36.450649</td>\n",
              "    </tr>\n",
              "    <tr>\n",
              "      <th>2</th>\n",
              "      <td>t25702332</td>\n",
              "      <td>2017-07-15</td>\n",
              "      <td>night</td>\n",
              "      <td>NaN</td>\n",
              "      <td>S9</td>\n",
              "      <td>D5</td>\n",
              "      <td>2800</td>\n",
              "      <td>NaN</td>\n",
              "      <td>1</td>\n",
              "      <td>NaN</td>\n",
              "      <td>B</td>\n",
              "      <td>9.057939</td>\n",
              "    </tr>\n",
              "    <tr>\n",
              "      <th>3</th>\n",
              "      <td>t27713405</td>\n",
              "      <td>2017-10-22</td>\n",
              "      <td>day</td>\n",
              "      <td>NaN</td>\n",
              "      <td>S9</td>\n",
              "      <td>D7</td>\n",
              "      <td>3200</td>\n",
              "      <td>NaN</td>\n",
              "      <td>50</td>\n",
              "      <td>NaN</td>\n",
              "      <td>C</td>\n",
              "      <td>57.320087</td>\n",
              "    </tr>\n",
              "    <tr>\n",
              "      <th>4</th>\n",
              "      <td>t49439220</td>\n",
              "      <td>2019-12-11</td>\n",
              "      <td>day</td>\n",
              "      <td>snow</td>\n",
              "      <td>S9</td>\n",
              "      <td>D1</td>\n",
              "      <td>2000</td>\n",
              "      <td>NaN</td>\n",
              "      <td>43</td>\n",
              "      <td>NaN</td>\n",
              "      <td>B</td>\n",
              "      <td>77.263777</td>\n",
              "    </tr>\n",
              "  </tbody>\n",
              "</table>\n",
              "</div>"
            ],
            "text/plain": [
              "        trip        date dayPart  ... packageType carrier       cost\n",
              "0  t52712528  2017-09-06   night  ...         NaN       D  68.413152\n",
              "1  t29859381  2017-10-21   night  ...         NaN       B  36.450649\n",
              "2  t25702332  2017-07-15   night  ...         NaN       B   9.057939\n",
              "3  t27713405  2017-10-22     day  ...         NaN       C  57.320087\n",
              "4  t49439220  2019-12-11     day  ...         NaN       B  77.263777\n",
              "\n",
              "[5 rows x 12 columns]"
            ]
          },
          "metadata": {
            "tags": []
          },
          "execution_count": 7
        }
      ]
    },
    {
      "cell_type": "code",
      "metadata": {
        "id": "3FmVq9iE1eku",
        "colab": {
          "base_uri": "https://localhost:8080/"
        },
        "outputId": "6d979240-f393-4d42-8d8c-14ac9aeb1f21"
      },
      "source": [
        "df.info()"
      ],
      "execution_count": 8,
      "outputs": [
        {
          "output_type": "stream",
          "text": [
            "<class 'pandas.core.frame.DataFrame'>\n",
            "RangeIndex: 38999 entries, 0 to 38998\n",
            "Data columns (total 12 columns):\n",
            " #   Column               Non-Null Count  Dtype  \n",
            "---  ------               --------------  -----  \n",
            " 0   trip                 38999 non-null  object \n",
            " 1   date                 38999 non-null  object \n",
            " 2   dayPart              38999 non-null  object \n",
            " 3   exWeatherTag         4882 non-null   object \n",
            " 4   originLocation       38999 non-null  object \n",
            " 5   destinationLocation  38999 non-null  object \n",
            " 6   distance             38999 non-null  int64  \n",
            " 7   type                 3748 non-null   object \n",
            " 8   weight               38999 non-null  int64  \n",
            " 9   packageType          2500 non-null   object \n",
            " 10  carrier              38999 non-null  object \n",
            " 11  cost                 38999 non-null  float64\n",
            "dtypes: float64(1), int64(2), object(9)\n",
            "memory usage: 3.6+ MB\n"
          ],
          "name": "stdout"
        }
      ]
    },
    {
      "cell_type": "code",
      "metadata": {
        "id": "b4KTt9PJ1eku"
      },
      "source": [
        "## format datetime column\n",
        "df[\"date\"] = pd.to_datetime(df['date'])"
      ],
      "execution_count": 9,
      "outputs": []
    },
    {
      "cell_type": "code",
      "metadata": {
        "id": "YeUG43p81eku",
        "colab": {
          "base_uri": "https://localhost:8080/",
          "height": 300
        },
        "outputId": "4ac8e7d8-724a-4fbd-9325-b1611646bfb9"
      },
      "source": [
        "df.describe()"
      ],
      "execution_count": 10,
      "outputs": [
        {
          "output_type": "execute_result",
          "data": {
            "text/html": [
              "<div>\n",
              "<style scoped>\n",
              "    .dataframe tbody tr th:only-of-type {\n",
              "        vertical-align: middle;\n",
              "    }\n",
              "\n",
              "    .dataframe tbody tr th {\n",
              "        vertical-align: top;\n",
              "    }\n",
              "\n",
              "    .dataframe thead th {\n",
              "        text-align: right;\n",
              "    }\n",
              "</style>\n",
              "<table border=\"1\" class=\"dataframe\">\n",
              "  <thead>\n",
              "    <tr style=\"text-align: right;\">\n",
              "      <th></th>\n",
              "      <th>distance</th>\n",
              "      <th>weight</th>\n",
              "      <th>cost</th>\n",
              "    </tr>\n",
              "  </thead>\n",
              "  <tbody>\n",
              "    <tr>\n",
              "      <th>count</th>\n",
              "      <td>38999.000000</td>\n",
              "      <td>38999.000000</td>\n",
              "      <td>38999.000000</td>\n",
              "    </tr>\n",
              "    <tr>\n",
              "      <th>mean</th>\n",
              "      <td>2004.061643</td>\n",
              "      <td>42.293033</td>\n",
              "      <td>80.972210</td>\n",
              "    </tr>\n",
              "    <tr>\n",
              "      <th>std</th>\n",
              "      <td>728.996843</td>\n",
              "      <td>75.473752</td>\n",
              "      <td>180.715055</td>\n",
              "    </tr>\n",
              "    <tr>\n",
              "      <th>min</th>\n",
              "      <td>400.000000</td>\n",
              "      <td>1.000000</td>\n",
              "      <td>5.000000</td>\n",
              "    </tr>\n",
              "    <tr>\n",
              "      <th>25%</th>\n",
              "      <td>1400.000000</td>\n",
              "      <td>13.000000</td>\n",
              "      <td>38.768742</td>\n",
              "    </tr>\n",
              "    <tr>\n",
              "      <th>50%</th>\n",
              "      <td>2000.000000</td>\n",
              "      <td>25.000000</td>\n",
              "      <td>46.468476</td>\n",
              "    </tr>\n",
              "    <tr>\n",
              "      <th>75%</th>\n",
              "      <td>2600.000000</td>\n",
              "      <td>39.000000</td>\n",
              "      <td>70.239797</td>\n",
              "    </tr>\n",
              "    <tr>\n",
              "      <th>max</th>\n",
              "      <td>3600.000000</td>\n",
              "      <td>500.000000</td>\n",
              "      <td>2019.734797</td>\n",
              "    </tr>\n",
              "  </tbody>\n",
              "</table>\n",
              "</div>"
            ],
            "text/plain": [
              "           distance        weight          cost\n",
              "count  38999.000000  38999.000000  38999.000000\n",
              "mean    2004.061643     42.293033     80.972210\n",
              "std      728.996843     75.473752    180.715055\n",
              "min      400.000000      1.000000      5.000000\n",
              "25%     1400.000000     13.000000     38.768742\n",
              "50%     2000.000000     25.000000     46.468476\n",
              "75%     2600.000000     39.000000     70.239797\n",
              "max     3600.000000    500.000000   2019.734797"
            ]
          },
          "metadata": {
            "tags": []
          },
          "execution_count": 10
        }
      ]
    },
    {
      "cell_type": "code",
      "metadata": {
        "id": "tejKoekM1ekv"
      },
      "source": [
        "df_train=df.copy()"
      ],
      "execution_count": 11,
      "outputs": []
    },
    {
      "cell_type": "markdown",
      "metadata": {
        "id": "Fom3Kpcd1ekv"
      },
      "source": [
        "Split the date column into three columns: Year, Monts and Day"
      ]
    },
    {
      "cell_type": "code",
      "metadata": {
        "id": "rj5aBSnA1ekv"
      },
      "source": [
        "split_by_date=df_train['date'].astype(str).apply(lambda x: list(map(int, x.split('-'))))"
      ],
      "execution_count": 12,
      "outputs": []
    },
    {
      "cell_type": "code",
      "metadata": {
        "id": "9JdBe1rF1ekv",
        "colab": {
          "base_uri": "https://localhost:8080/"
        },
        "outputId": "655c2f55-42c9-435e-bb36-35078278113c"
      },
      "source": [
        "split_by_date"
      ],
      "execution_count": 13,
      "outputs": [
        {
          "output_type": "execute_result",
          "data": {
            "text/plain": [
              "0          [2017, 9, 6]\n",
              "1        [2017, 10, 21]\n",
              "2         [2017, 7, 15]\n",
              "3        [2017, 10, 22]\n",
              "4        [2019, 12, 11]\n",
              "              ...      \n",
              "38994    [2019, 10, 17]\n",
              "38995     [2019, 1, 23]\n",
              "38996     [2018, 10, 3]\n",
              "38997     [2018, 2, 26]\n",
              "38998     [2017, 7, 30]\n",
              "Name: date, Length: 38999, dtype: object"
            ]
          },
          "metadata": {
            "tags": []
          },
          "execution_count": 13
        }
      ]
    },
    {
      "cell_type": "code",
      "metadata": {
        "id": "2iZjuuBK1ekv",
        "colab": {
          "base_uri": "https://localhost:8080/"
        },
        "outputId": "9f932c75-308a-442a-a75d-555e1fc6872f"
      },
      "source": [
        "split_by_date_val=split_by_date.values\n",
        "split_by_date_val"
      ],
      "execution_count": 14,
      "outputs": [
        {
          "output_type": "execute_result",
          "data": {
            "text/plain": [
              "array([list([2017, 9, 6]), list([2017, 10, 21]), list([2017, 7, 15]), ...,\n",
              "       list([2018, 10, 3]), list([2018, 2, 26]), list([2017, 7, 30])],\n",
              "      dtype=object)"
            ]
          },
          "metadata": {
            "tags": []
          },
          "execution_count": 14
        }
      ]
    },
    {
      "cell_type": "code",
      "metadata": {
        "id": "wUSix5cG1ekv",
        "colab": {
          "base_uri": "https://localhost:8080/"
        },
        "outputId": "6952606d-8ff5-4216-9573-399ef4aac738"
      },
      "source": [
        "split_by_date_stack=np.vstack(split_by_date_val)\n",
        "split_by_date_stack"
      ],
      "execution_count": 15,
      "outputs": [
        {
          "output_type": "execute_result",
          "data": {
            "text/plain": [
              "array([[2017,    9,    6],\n",
              "       [2017,   10,   21],\n",
              "       [2017,    7,   15],\n",
              "       ...,\n",
              "       [2018,   10,    3],\n",
              "       [2018,    2,   26],\n",
              "       [2017,    7,   30]])"
            ]
          },
          "metadata": {
            "tags": []
          },
          "execution_count": 15
        }
      ]
    },
    {
      "cell_type": "code",
      "metadata": {
        "id": "prhznzui1ekw",
        "colab": {
          "base_uri": "https://localhost:8080/"
        },
        "outputId": "9c3f2763-fe3e-407d-d9ef-9b500a00a835"
      },
      "source": [
        "df_train['Year']=split_by_date_stack[:,0]\n",
        "df_train['Year']"
      ],
      "execution_count": 16,
      "outputs": [
        {
          "output_type": "execute_result",
          "data": {
            "text/plain": [
              "0        2017\n",
              "1        2017\n",
              "2        2017\n",
              "3        2017\n",
              "4        2019\n",
              "         ... \n",
              "38994    2019\n",
              "38995    2019\n",
              "38996    2018\n",
              "38997    2018\n",
              "38998    2017\n",
              "Name: Year, Length: 38999, dtype: int64"
            ]
          },
          "metadata": {
            "tags": []
          },
          "execution_count": 16
        }
      ]
    },
    {
      "cell_type": "code",
      "metadata": {
        "id": "dsysJJl01ekw"
      },
      "source": [
        "df_train['Month']=split_by_date_stack[:,1]"
      ],
      "execution_count": 17,
      "outputs": []
    },
    {
      "cell_type": "code",
      "metadata": {
        "id": "qY9lZAcF1ekw"
      },
      "source": [
        "df_train['Day']=split_by_date_stack[:,2]"
      ],
      "execution_count": 18,
      "outputs": []
    },
    {
      "cell_type": "code",
      "metadata": {
        "id": "Q03Ceo0g1ekw",
        "colab": {
          "base_uri": "https://localhost:8080/",
          "height": 206
        },
        "outputId": "fca7a6a3-a5ae-4874-eb35-b93cdec51e68"
      },
      "source": [
        "df_train.head()"
      ],
      "execution_count": 19,
      "outputs": [
        {
          "output_type": "execute_result",
          "data": {
            "text/html": [
              "<div>\n",
              "<style scoped>\n",
              "    .dataframe tbody tr th:only-of-type {\n",
              "        vertical-align: middle;\n",
              "    }\n",
              "\n",
              "    .dataframe tbody tr th {\n",
              "        vertical-align: top;\n",
              "    }\n",
              "\n",
              "    .dataframe thead th {\n",
              "        text-align: right;\n",
              "    }\n",
              "</style>\n",
              "<table border=\"1\" class=\"dataframe\">\n",
              "  <thead>\n",
              "    <tr style=\"text-align: right;\">\n",
              "      <th></th>\n",
              "      <th>trip</th>\n",
              "      <th>date</th>\n",
              "      <th>dayPart</th>\n",
              "      <th>exWeatherTag</th>\n",
              "      <th>originLocation</th>\n",
              "      <th>destinationLocation</th>\n",
              "      <th>distance</th>\n",
              "      <th>type</th>\n",
              "      <th>weight</th>\n",
              "      <th>packageType</th>\n",
              "      <th>carrier</th>\n",
              "      <th>cost</th>\n",
              "      <th>Year</th>\n",
              "      <th>Month</th>\n",
              "      <th>Day</th>\n",
              "    </tr>\n",
              "  </thead>\n",
              "  <tbody>\n",
              "    <tr>\n",
              "      <th>0</th>\n",
              "      <td>t52712528</td>\n",
              "      <td>2017-09-06</td>\n",
              "      <td>night</td>\n",
              "      <td>NaN</td>\n",
              "      <td>S4</td>\n",
              "      <td>D7</td>\n",
              "      <td>2200</td>\n",
              "      <td>expedited</td>\n",
              "      <td>50</td>\n",
              "      <td>NaN</td>\n",
              "      <td>D</td>\n",
              "      <td>68.413152</td>\n",
              "      <td>2017</td>\n",
              "      <td>9</td>\n",
              "      <td>6</td>\n",
              "    </tr>\n",
              "    <tr>\n",
              "      <th>1</th>\n",
              "      <td>t29859381</td>\n",
              "      <td>2017-10-21</td>\n",
              "      <td>night</td>\n",
              "      <td>NaN</td>\n",
              "      <td>S8</td>\n",
              "      <td>D1</td>\n",
              "      <td>1800</td>\n",
              "      <td>NaN</td>\n",
              "      <td>12</td>\n",
              "      <td>NaN</td>\n",
              "      <td>B</td>\n",
              "      <td>36.450649</td>\n",
              "      <td>2017</td>\n",
              "      <td>10</td>\n",
              "      <td>21</td>\n",
              "    </tr>\n",
              "    <tr>\n",
              "      <th>2</th>\n",
              "      <td>t25702332</td>\n",
              "      <td>2017-07-15</td>\n",
              "      <td>night</td>\n",
              "      <td>NaN</td>\n",
              "      <td>S9</td>\n",
              "      <td>D5</td>\n",
              "      <td>2800</td>\n",
              "      <td>NaN</td>\n",
              "      <td>1</td>\n",
              "      <td>NaN</td>\n",
              "      <td>B</td>\n",
              "      <td>9.057939</td>\n",
              "      <td>2017</td>\n",
              "      <td>7</td>\n",
              "      <td>15</td>\n",
              "    </tr>\n",
              "    <tr>\n",
              "      <th>3</th>\n",
              "      <td>t27713405</td>\n",
              "      <td>2017-10-22</td>\n",
              "      <td>day</td>\n",
              "      <td>NaN</td>\n",
              "      <td>S9</td>\n",
              "      <td>D7</td>\n",
              "      <td>3200</td>\n",
              "      <td>NaN</td>\n",
              "      <td>50</td>\n",
              "      <td>NaN</td>\n",
              "      <td>C</td>\n",
              "      <td>57.320087</td>\n",
              "      <td>2017</td>\n",
              "      <td>10</td>\n",
              "      <td>22</td>\n",
              "    </tr>\n",
              "    <tr>\n",
              "      <th>4</th>\n",
              "      <td>t49439220</td>\n",
              "      <td>2019-12-11</td>\n",
              "      <td>day</td>\n",
              "      <td>snow</td>\n",
              "      <td>S9</td>\n",
              "      <td>D1</td>\n",
              "      <td>2000</td>\n",
              "      <td>NaN</td>\n",
              "      <td>43</td>\n",
              "      <td>NaN</td>\n",
              "      <td>B</td>\n",
              "      <td>77.263777</td>\n",
              "      <td>2019</td>\n",
              "      <td>12</td>\n",
              "      <td>11</td>\n",
              "    </tr>\n",
              "  </tbody>\n",
              "</table>\n",
              "</div>"
            ],
            "text/plain": [
              "        trip       date dayPart exWeatherTag  ...       cost  Year  Month Day\n",
              "0  t52712528 2017-09-06   night          NaN  ...  68.413152  2017      9   6\n",
              "1  t29859381 2017-10-21   night          NaN  ...  36.450649  2017     10  21\n",
              "2  t25702332 2017-07-15   night          NaN  ...   9.057939  2017      7  15\n",
              "3  t27713405 2017-10-22     day          NaN  ...  57.320087  2017     10  22\n",
              "4  t49439220 2019-12-11     day         snow  ...  77.263777  2019     12  11\n",
              "\n",
              "[5 rows x 15 columns]"
            ]
          },
          "metadata": {
            "tags": []
          },
          "execution_count": 19
        }
      ]
    },
    {
      "cell_type": "markdown",
      "metadata": {
        "id": "d5wncocU1ekw"
      },
      "source": [
        "Check the null values"
      ]
    },
    {
      "cell_type": "code",
      "metadata": {
        "id": "nENLkO5n1ekw",
        "colab": {
          "base_uri": "https://localhost:8080/"
        },
        "outputId": "a3c32e64-1d46-4cab-c4f0-178b62d1c8b9"
      },
      "source": [
        "count_nulls=df_train.isnull().sum().sort_values(ascending=False)\n",
        "count_nulls"
      ],
      "execution_count": 20,
      "outputs": [
        {
          "output_type": "execute_result",
          "data": {
            "text/plain": [
              "packageType            36499\n",
              "type                   35251\n",
              "exWeatherTag           34117\n",
              "Day                        0\n",
              "Month                      0\n",
              "Year                       0\n",
              "cost                       0\n",
              "carrier                    0\n",
              "weight                     0\n",
              "distance                   0\n",
              "destinationLocation        0\n",
              "originLocation             0\n",
              "dayPart                    0\n",
              "date                       0\n",
              "trip                       0\n",
              "dtype: int64"
            ]
          },
          "metadata": {
            "tags": []
          },
          "execution_count": 20
        }
      ]
    },
    {
      "cell_type": "markdown",
      "metadata": {
        "id": "gro3KyGJ1ekw"
      },
      "source": [
        "Calculate the percentage of missing values"
      ]
    },
    {
      "cell_type": "code",
      "metadata": {
        "id": "G8aFWuVs1ekw",
        "colab": {
          "base_uri": "https://localhost:8080/"
        },
        "outputId": "c5ecc62f-6182-44ab-d2c9-1f22fa15ea52"
      },
      "source": [
        "percentage=round(count_nulls/len(df)*100, 2)\n",
        "percentage"
      ],
      "execution_count": 21,
      "outputs": [
        {
          "output_type": "execute_result",
          "data": {
            "text/plain": [
              "packageType            93.59\n",
              "type                   90.39\n",
              "exWeatherTag           87.48\n",
              "Day                     0.00\n",
              "Month                   0.00\n",
              "Year                    0.00\n",
              "cost                    0.00\n",
              "carrier                 0.00\n",
              "weight                  0.00\n",
              "distance                0.00\n",
              "destinationLocation     0.00\n",
              "originLocation          0.00\n",
              "dayPart                 0.00\n",
              "date                    0.00\n",
              "trip                    0.00\n",
              "dtype: float64"
            ]
          },
          "metadata": {
            "tags": []
          },
          "execution_count": 21
        }
      ]
    },
    {
      "cell_type": "code",
      "metadata": {
        "id": "Em_IGO7M1ekx",
        "colab": {
          "base_uri": "https://localhost:8080/",
          "height": 520
        },
        "outputId": "b7b962b9-9e4b-4362-d0da-b0e5dcf08766"
      },
      "source": [
        "# create a table that shows the number of missing values and the percentage\n",
        "pd.concat([count_nulls, percentage], axis=1, keys=['Number of nulls','Percent'])"
      ],
      "execution_count": 118,
      "outputs": [
        {
          "output_type": "execute_result",
          "data": {
            "text/html": [
              "<div>\n",
              "<style scoped>\n",
              "    .dataframe tbody tr th:only-of-type {\n",
              "        vertical-align: middle;\n",
              "    }\n",
              "\n",
              "    .dataframe tbody tr th {\n",
              "        vertical-align: top;\n",
              "    }\n",
              "\n",
              "    .dataframe thead th {\n",
              "        text-align: right;\n",
              "    }\n",
              "</style>\n",
              "<table border=\"1\" class=\"dataframe\">\n",
              "  <thead>\n",
              "    <tr style=\"text-align: right;\">\n",
              "      <th></th>\n",
              "      <th>Number of nulls</th>\n",
              "      <th>Percent</th>\n",
              "    </tr>\n",
              "  </thead>\n",
              "  <tbody>\n",
              "    <tr>\n",
              "      <th>packageType</th>\n",
              "      <td>36499</td>\n",
              "      <td>93.59</td>\n",
              "    </tr>\n",
              "    <tr>\n",
              "      <th>type</th>\n",
              "      <td>35251</td>\n",
              "      <td>90.39</td>\n",
              "    </tr>\n",
              "    <tr>\n",
              "      <th>exWeatherTag</th>\n",
              "      <td>34117</td>\n",
              "      <td>87.48</td>\n",
              "    </tr>\n",
              "    <tr>\n",
              "      <th>Day</th>\n",
              "      <td>0</td>\n",
              "      <td>0.00</td>\n",
              "    </tr>\n",
              "    <tr>\n",
              "      <th>Month</th>\n",
              "      <td>0</td>\n",
              "      <td>0.00</td>\n",
              "    </tr>\n",
              "    <tr>\n",
              "      <th>Year</th>\n",
              "      <td>0</td>\n",
              "      <td>0.00</td>\n",
              "    </tr>\n",
              "    <tr>\n",
              "      <th>cost</th>\n",
              "      <td>0</td>\n",
              "      <td>0.00</td>\n",
              "    </tr>\n",
              "    <tr>\n",
              "      <th>carrier</th>\n",
              "      <td>0</td>\n",
              "      <td>0.00</td>\n",
              "    </tr>\n",
              "    <tr>\n",
              "      <th>weight</th>\n",
              "      <td>0</td>\n",
              "      <td>0.00</td>\n",
              "    </tr>\n",
              "    <tr>\n",
              "      <th>distance</th>\n",
              "      <td>0</td>\n",
              "      <td>0.00</td>\n",
              "    </tr>\n",
              "    <tr>\n",
              "      <th>destinationLocation</th>\n",
              "      <td>0</td>\n",
              "      <td>0.00</td>\n",
              "    </tr>\n",
              "    <tr>\n",
              "      <th>originLocation</th>\n",
              "      <td>0</td>\n",
              "      <td>0.00</td>\n",
              "    </tr>\n",
              "    <tr>\n",
              "      <th>dayPart</th>\n",
              "      <td>0</td>\n",
              "      <td>0.00</td>\n",
              "    </tr>\n",
              "    <tr>\n",
              "      <th>date</th>\n",
              "      <td>0</td>\n",
              "      <td>0.00</td>\n",
              "    </tr>\n",
              "    <tr>\n",
              "      <th>trip</th>\n",
              "      <td>0</td>\n",
              "      <td>0.00</td>\n",
              "    </tr>\n",
              "  </tbody>\n",
              "</table>\n",
              "</div>"
            ],
            "text/plain": [
              "                     Number of nulls  Percent\n",
              "packageType                    36499    93.59\n",
              "type                           35251    90.39\n",
              "exWeatherTag                   34117    87.48\n",
              "Day                                0     0.00\n",
              "Month                              0     0.00\n",
              "Year                               0     0.00\n",
              "cost                               0     0.00\n",
              "carrier                            0     0.00\n",
              "weight                             0     0.00\n",
              "distance                           0     0.00\n",
              "destinationLocation                0     0.00\n",
              "originLocation                     0     0.00\n",
              "dayPart                            0     0.00\n",
              "date                               0     0.00\n",
              "trip                               0     0.00"
            ]
          },
          "metadata": {
            "tags": []
          },
          "execution_count": 118
        }
      ]
    },
    {
      "cell_type": "markdown",
      "metadata": {
        "id": "CGqiNILU1ekx"
      },
      "source": [
        "We can drop packageType, type and exWeather because they are missing more than 80% of the information"
      ]
    },
    {
      "cell_type": "code",
      "metadata": {
        "id": "dIIkW87wXH4r"
      },
      "source": [
        "df_train_copy=df_train.copy()"
      ],
      "execution_count": 119,
      "outputs": []
    },
    {
      "cell_type": "code",
      "metadata": {
        "id": "SmuizXLH1ekx"
      },
      "source": [
        "df_train_copy = df_train_copy.drop(['trip','date','originLocation','destinationLocation','exWeatherTag','type','packageType', 'Year'],axis=1)"
      ],
      "execution_count": 120,
      "outputs": []
    },
    {
      "cell_type": "code",
      "metadata": {
        "id": "wly2nro91ekx",
        "colab": {
          "base_uri": "https://localhost:8080/",
          "height": 879
        },
        "outputId": "ed8baa47-8f7f-432f-be7e-965a3a2b4fa2"
      },
      "source": [
        "%matplotlib inline\n",
        "import matplotlib.pyplot as plt\n",
        "df_train_copy.hist(bins=50, figsize=(20,15))\n",
        "plt.show()"
      ],
      "execution_count": 121,
      "outputs": [
        {
          "output_type": "display_data",
          "data": {
            "image/png": "[encoded data removed]",
            "text/plain": [
              "<Figure size 1440x1080 with 6 Axes>"
            ]
          },
          "metadata": {
            "tags": [],
            "needs_background": "light"
          }
        }
      ]
    },
    {
      "cell_type": "code",
      "metadata": {
        "id": "sJV23bab1eky",
        "colab": {
          "base_uri": "https://localhost:8080/",
          "height": 206
        },
        "outputId": "9901b977-7a1c-45e3-c3ed-4550fe7419c5"
      },
      "source": [
        "corr_matrix = df_train_copy.corr()\n",
        "corr_matrix"
      ],
      "execution_count": 122,
      "outputs": [
        {
          "output_type": "execute_result",
          "data": {
            "text/html": [
              "<div>\n",
              "<style scoped>\n",
              "    .dataframe tbody tr th:only-of-type {\n",
              "        vertical-align: middle;\n",
              "    }\n",
              "\n",
              "    .dataframe tbody tr th {\n",
              "        vertical-align: top;\n",
              "    }\n",
              "\n",
              "    .dataframe thead th {\n",
              "        text-align: right;\n",
              "    }\n",
              "</style>\n",
              "<table border=\"1\" class=\"dataframe\">\n",
              "  <thead>\n",
              "    <tr style=\"text-align: right;\">\n",
              "      <th></th>\n",
              "      <th>distance</th>\n",
              "      <th>weight</th>\n",
              "      <th>cost</th>\n",
              "      <th>Month</th>\n",
              "      <th>Day</th>\n",
              "    </tr>\n",
              "  </thead>\n",
              "  <tbody>\n",
              "    <tr>\n",
              "      <th>distance</th>\n",
              "      <td>1.000000</td>\n",
              "      <td>-0.004986</td>\n",
              "      <td>0.006427</td>\n",
              "      <td>0.000988</td>\n",
              "      <td>0.005368</td>\n",
              "    </tr>\n",
              "    <tr>\n",
              "      <th>weight</th>\n",
              "      <td>-0.004986</td>\n",
              "      <td>1.000000</td>\n",
              "      <td>0.859548</td>\n",
              "      <td>-0.003634</td>\n",
              "      <td>-0.006104</td>\n",
              "    </tr>\n",
              "    <tr>\n",
              "      <th>cost</th>\n",
              "      <td>0.006427</td>\n",
              "      <td>0.859548</td>\n",
              "      <td>1.000000</td>\n",
              "      <td>-0.008062</td>\n",
              "      <td>-0.003918</td>\n",
              "    </tr>\n",
              "    <tr>\n",
              "      <th>Month</th>\n",
              "      <td>0.000988</td>\n",
              "      <td>-0.003634</td>\n",
              "      <td>-0.008062</td>\n",
              "      <td>1.000000</td>\n",
              "      <td>0.015740</td>\n",
              "    </tr>\n",
              "    <tr>\n",
              "      <th>Day</th>\n",
              "      <td>0.005368</td>\n",
              "      <td>-0.006104</td>\n",
              "      <td>-0.003918</td>\n",
              "      <td>0.015740</td>\n",
              "      <td>1.000000</td>\n",
              "    </tr>\n",
              "  </tbody>\n",
              "</table>\n",
              "</div>"
            ],
            "text/plain": [
              "          distance    weight      cost     Month       Day\n",
              "distance  1.000000 -0.004986  0.006427  0.000988  0.005368\n",
              "weight   -0.004986  1.000000  0.859548 -0.003634 -0.006104\n",
              "cost      0.006427  0.859548  1.000000 -0.008062 -0.003918\n",
              "Month     0.000988 -0.003634 -0.008062  1.000000  0.015740\n",
              "Day       0.005368 -0.006104 -0.003918  0.015740  1.000000"
            ]
          },
          "metadata": {
            "tags": []
          },
          "execution_count": 122
        }
      ]
    },
    {
      "cell_type": "code",
      "metadata": {
        "colab": {
          "base_uri": "https://localhost:8080/"
        },
        "id": "bItftGzSEeGp",
        "outputId": "c09f060b-dec4-4b99-fba7-c03661c8aa72"
      },
      "source": [
        "corr_matrix['cost'].sort_values(ascending=False)"
      ],
      "execution_count": 123,
      "outputs": [
        {
          "output_type": "execute_result",
          "data": {
            "text/plain": [
              "cost        1.000000\n",
              "weight      0.859548\n",
              "distance    0.006427\n",
              "Day        -0.003918\n",
              "Month      -0.008062\n",
              "Name: cost, dtype: float64"
            ]
          },
          "metadata": {
            "tags": []
          },
          "execution_count": 123
        }
      ]
    },
    {
      "cell_type": "code",
      "metadata": {
        "id": "fgiLAxj01eky",
        "colab": {
          "base_uri": "https://localhost:8080/",
          "height": 507
        },
        "outputId": "c0fc574d-a8e4-44b5-eaec-c9edfb6c5173"
      },
      "source": [
        "from pandas.plotting import scatter_matrix\n",
        "\n",
        "attributes = ['distance','weight', 'cost', 'Month', 'Day']\n",
        "\n",
        "scatter_matrix(df_train_copy[attributes], figsize=(12, 8));"
      ],
      "execution_count": 124,
      "outputs": [
        {
          "output_type": "display_data",
          "data": {
            "image/png": "[encoded data removed]",
            "text/plain": [
              "<Figure size 864x576 with 25 Axes>"
            ]
          },
          "metadata": {
            "tags": [],
            "needs_background": "light"
          }
        }
      ]
    },
    {
      "cell_type": "code",
      "metadata": {
        "id": "2K3InrrJ1eky"
      },
      "source": [
        ""
      ],
      "execution_count": null,
      "outputs": []
    },
    {
      "cell_type": "markdown",
      "metadata": {
        "id": "XybqPkNo1eky"
      },
      "source": [
        "### Feature Engineering\n"
      ]
    },
    {
      "cell_type": "markdown",
      "metadata": {
        "id": "uQU3ei8hU1IO"
      },
      "source": [
        "Remove the text attribute because median can only be calculated on numerical attributes:"
      ]
    },
    {
      "cell_type": "code",
      "metadata": {
        "id": "eKvg5zs8U0XU"
      },
      "source": [
        "df_train_num = df_train_copy.drop(columns=[\"dayPart\", \"carrier\"], axis=1)"
      ],
      "execution_count": 125,
      "outputs": []
    },
    {
      "cell_type": "code",
      "metadata": {
        "colab": {
          "base_uri": "https://localhost:8080/",
          "height": 206
        },
        "id": "_h4qd0LtXwtR",
        "outputId": "8e8bc060-ffe1-4e56-8264-995a3134a6dd"
      },
      "source": [
        "df_train_num.head()"
      ],
      "execution_count": 126,
      "outputs": [
        {
          "output_type": "execute_result",
          "data": {
            "text/html": [
              "<div>\n",
              "<style scoped>\n",
              "    .dataframe tbody tr th:only-of-type {\n",
              "        vertical-align: middle;\n",
              "    }\n",
              "\n",
              "    .dataframe tbody tr th {\n",
              "        vertical-align: top;\n",
              "    }\n",
              "\n",
              "    .dataframe thead th {\n",
              "        text-align: right;\n",
              "    }\n",
              "</style>\n",
              "<table border=\"1\" class=\"dataframe\">\n",
              "  <thead>\n",
              "    <tr style=\"text-align: right;\">\n",
              "      <th></th>\n",
              "      <th>distance</th>\n",
              "      <th>weight</th>\n",
              "      <th>cost</th>\n",
              "      <th>Month</th>\n",
              "      <th>Day</th>\n",
              "    </tr>\n",
              "  </thead>\n",
              "  <tbody>\n",
              "    <tr>\n",
              "      <th>0</th>\n",
              "      <td>2200</td>\n",
              "      <td>50</td>\n",
              "      <td>68.413152</td>\n",
              "      <td>9</td>\n",
              "      <td>6</td>\n",
              "    </tr>\n",
              "    <tr>\n",
              "      <th>1</th>\n",
              "      <td>1800</td>\n",
              "      <td>12</td>\n",
              "      <td>36.450649</td>\n",
              "      <td>10</td>\n",
              "      <td>21</td>\n",
              "    </tr>\n",
              "    <tr>\n",
              "      <th>2</th>\n",
              "      <td>2800</td>\n",
              "      <td>1</td>\n",
              "      <td>9.057939</td>\n",
              "      <td>7</td>\n",
              "      <td>15</td>\n",
              "    </tr>\n",
              "    <tr>\n",
              "      <th>3</th>\n",
              "      <td>3200</td>\n",
              "      <td>50</td>\n",
              "      <td>57.320087</td>\n",
              "      <td>10</td>\n",
              "      <td>22</td>\n",
              "    </tr>\n",
              "    <tr>\n",
              "      <th>4</th>\n",
              "      <td>2000</td>\n",
              "      <td>43</td>\n",
              "      <td>77.263777</td>\n",
              "      <td>12</td>\n",
              "      <td>11</td>\n",
              "    </tr>\n",
              "  </tbody>\n",
              "</table>\n",
              "</div>"
            ],
            "text/plain": [
              "   distance  weight       cost  Month  Day\n",
              "0      2200      50  68.413152      9    6\n",
              "1      1800      12  36.450649     10   21\n",
              "2      2800       1   9.057939      7   15\n",
              "3      3200      50  57.320087     10   22\n",
              "4      2000      43  77.263777     12   11"
            ]
          },
          "metadata": {
            "tags": []
          },
          "execution_count": 126
        }
      ]
    },
    {
      "cell_type": "markdown",
      "metadata": {
        "id": "laFEF2s41eky"
      },
      "source": [
        "Preprocessing the categorical feature, \"dayPart\":"
      ]
    },
    {
      "cell_type": "code",
      "metadata": {
        "id": "rCImWNsA1eky",
        "colab": {
          "base_uri": "https://localhost:8080/",
          "height": 206
        },
        "outputId": "eca0d87e-f622-45bc-d02c-910e2a7a93bd"
      },
      "source": [
        "dayPart_cat=df_train_copy[['dayPart']]\n",
        "dayPart_cat.head()"
      ],
      "execution_count": 128,
      "outputs": [
        {
          "output_type": "execute_result",
          "data": {
            "text/html": [
              "<div>\n",
              "<style scoped>\n",
              "    .dataframe tbody tr th:only-of-type {\n",
              "        vertical-align: middle;\n",
              "    }\n",
              "\n",
              "    .dataframe tbody tr th {\n",
              "        vertical-align: top;\n",
              "    }\n",
              "\n",
              "    .dataframe thead th {\n",
              "        text-align: right;\n",
              "    }\n",
              "</style>\n",
              "<table border=\"1\" class=\"dataframe\">\n",
              "  <thead>\n",
              "    <tr style=\"text-align: right;\">\n",
              "      <th></th>\n",
              "      <th>dayPart</th>\n",
              "    </tr>\n",
              "  </thead>\n",
              "  <tbody>\n",
              "    <tr>\n",
              "      <th>0</th>\n",
              "      <td>night</td>\n",
              "    </tr>\n",
              "    <tr>\n",
              "      <th>1</th>\n",
              "      <td>night</td>\n",
              "    </tr>\n",
              "    <tr>\n",
              "      <th>2</th>\n",
              "      <td>night</td>\n",
              "    </tr>\n",
              "    <tr>\n",
              "      <th>3</th>\n",
              "      <td>day</td>\n",
              "    </tr>\n",
              "    <tr>\n",
              "      <th>4</th>\n",
              "      <td>day</td>\n",
              "    </tr>\n",
              "  </tbody>\n",
              "</table>\n",
              "</div>"
            ],
            "text/plain": [
              "  dayPart\n",
              "0   night\n",
              "1   night\n",
              "2   night\n",
              "3     day\n",
              "4     day"
            ]
          },
          "metadata": {
            "tags": []
          },
          "execution_count": 128
        }
      ]
    },
    {
      "cell_type": "markdown",
      "metadata": {
        "id": "tTa0mACBZkak"
      },
      "source": [
        "Preprocessing the categorial feature, \"carrier\""
      ]
    },
    {
      "cell_type": "code",
      "metadata": {
        "id": "xB-4OHR91eky",
        "colab": {
          "base_uri": "https://localhost:8080/",
          "height": 206
        },
        "outputId": "7e3e01f8-be4d-424e-8ef7-3f41c4b7636f"
      },
      "source": [
        "carrier_cat=df_train_copy[['carrier']]\n",
        "carrier_cat.head()"
      ],
      "execution_count": 129,
      "outputs": [
        {
          "output_type": "execute_result",
          "data": {
            "text/html": [
              "<div>\n",
              "<style scoped>\n",
              "    .dataframe tbody tr th:only-of-type {\n",
              "        vertical-align: middle;\n",
              "    }\n",
              "\n",
              "    .dataframe tbody tr th {\n",
              "        vertical-align: top;\n",
              "    }\n",
              "\n",
              "    .dataframe thead th {\n",
              "        text-align: right;\n",
              "    }\n",
              "</style>\n",
              "<table border=\"1\" class=\"dataframe\">\n",
              "  <thead>\n",
              "    <tr style=\"text-align: right;\">\n",
              "      <th></th>\n",
              "      <th>carrier</th>\n",
              "    </tr>\n",
              "  </thead>\n",
              "  <tbody>\n",
              "    <tr>\n",
              "      <th>0</th>\n",
              "      <td>D</td>\n",
              "    </tr>\n",
              "    <tr>\n",
              "      <th>1</th>\n",
              "      <td>B</td>\n",
              "    </tr>\n",
              "    <tr>\n",
              "      <th>2</th>\n",
              "      <td>B</td>\n",
              "    </tr>\n",
              "    <tr>\n",
              "      <th>3</th>\n",
              "      <td>C</td>\n",
              "    </tr>\n",
              "    <tr>\n",
              "      <th>4</th>\n",
              "      <td>B</td>\n",
              "    </tr>\n",
              "  </tbody>\n",
              "</table>\n",
              "</div>"
            ],
            "text/plain": [
              "  carrier\n",
              "0       D\n",
              "1       B\n",
              "2       B\n",
              "3       C\n",
              "4       B"
            ]
          },
          "metadata": {
            "tags": []
          },
          "execution_count": 129
        }
      ]
    },
    {
      "cell_type": "code",
      "metadata": {
        "id": "75ueHXTQ1eky"
      },
      "source": [
        "#Replace dayPart values with 0 and 1\n",
        "#df['dayPart'].replace(['day','night'],[1,0],inplace=True)"
      ],
      "execution_count": 62,
      "outputs": []
    },
    {
      "cell_type": "code",
      "metadata": {
        "id": "LmFGveWZ1ekz"
      },
      "source": [
        "#cat_encoder = OneHotEncoder(sparse=False)\n",
        "#day_part_cat_hot = cat_encoder.fit_transform(day_part)\n",
        "#day_part_cat_hot"
      ],
      "execution_count": null,
      "outputs": []
    },
    {
      "cell_type": "code",
      "metadata": {
        "id": "3a4B2_Cv1ekz"
      },
      "source": [
        "#cat_encoder.categories_"
      ],
      "execution_count": null,
      "outputs": []
    },
    {
      "cell_type": "markdown",
      "metadata": {
        "id": "vZ8tNqRM1ekz"
      },
      "source": [
        "**Create the training and validation sets**"
      ]
    },
    {
      "cell_type": "code",
      "metadata": {
        "id": "rbhoT1CX1ek0"
      },
      "source": [
        "train_set, val_set = train_test_split(df_train_copy, test_size=0.1, shuffle=False, random_state=42)"
      ],
      "execution_count": 179,
      "outputs": []
    },
    {
      "cell_type": "code",
      "metadata": {
        "id": "6Ina05_i1ek0"
      },
      "source": [
        "# X variables\n",
        "train_set_X = train_set.drop(\"cost\", axis=1)\n",
        "val_set_X = val_set.drop(\"cost\", axis=1)\n",
        "\n",
        "# Y Variable\n",
        "train_set_y = train_set[\"cost\"].copy()\n",
        "val_set_y = val_set[\"cost\"].copy()\n"
      ],
      "execution_count": 180,
      "outputs": []
    },
    {
      "cell_type": "code",
      "metadata": {
        "id": "BW71c5iB1ek0",
        "colab": {
          "base_uri": "https://localhost:8080/",
          "height": 206
        },
        "outputId": "b66d8070-9e15-4163-d356-ddfe3238ca97"
      },
      "source": [
        "train_set_X.head()"
      ],
      "execution_count": 181,
      "outputs": [
        {
          "output_type": "execute_result",
          "data": {
            "text/html": [
              "<div>\n",
              "<style scoped>\n",
              "    .dataframe tbody tr th:only-of-type {\n",
              "        vertical-align: middle;\n",
              "    }\n",
              "\n",
              "    .dataframe tbody tr th {\n",
              "        vertical-align: top;\n",
              "    }\n",
              "\n",
              "    .dataframe thead th {\n",
              "        text-align: right;\n",
              "    }\n",
              "</style>\n",
              "<table border=\"1\" class=\"dataframe\">\n",
              "  <thead>\n",
              "    <tr style=\"text-align: right;\">\n",
              "      <th></th>\n",
              "      <th>dayPart</th>\n",
              "      <th>distance</th>\n",
              "      <th>weight</th>\n",
              "      <th>carrier</th>\n",
              "      <th>Month</th>\n",
              "      <th>Day</th>\n",
              "    </tr>\n",
              "  </thead>\n",
              "  <tbody>\n",
              "    <tr>\n",
              "      <th>0</th>\n",
              "      <td>night</td>\n",
              "      <td>2200</td>\n",
              "      <td>50</td>\n",
              "      <td>D</td>\n",
              "      <td>9</td>\n",
              "      <td>6</td>\n",
              "    </tr>\n",
              "    <tr>\n",
              "      <th>1</th>\n",
              "      <td>night</td>\n",
              "      <td>1800</td>\n",
              "      <td>12</td>\n",
              "      <td>B</td>\n",
              "      <td>10</td>\n",
              "      <td>21</td>\n",
              "    </tr>\n",
              "    <tr>\n",
              "      <th>2</th>\n",
              "      <td>night</td>\n",
              "      <td>2800</td>\n",
              "      <td>1</td>\n",
              "      <td>B</td>\n",
              "      <td>7</td>\n",
              "      <td>15</td>\n",
              "    </tr>\n",
              "    <tr>\n",
              "      <th>3</th>\n",
              "      <td>day</td>\n",
              "      <td>3200</td>\n",
              "      <td>50</td>\n",
              "      <td>C</td>\n",
              "      <td>10</td>\n",
              "      <td>22</td>\n",
              "    </tr>\n",
              "    <tr>\n",
              "      <th>4</th>\n",
              "      <td>day</td>\n",
              "      <td>2000</td>\n",
              "      <td>43</td>\n",
              "      <td>B</td>\n",
              "      <td>12</td>\n",
              "      <td>11</td>\n",
              "    </tr>\n",
              "  </tbody>\n",
              "</table>\n",
              "</div>"
            ],
            "text/plain": [
              "  dayPart  distance  weight carrier  Month  Day\n",
              "0   night      2200      50       D      9    6\n",
              "1   night      1800      12       B     10   21\n",
              "2   night      2800       1       B      7   15\n",
              "3     day      3200      50       C     10   22\n",
              "4     day      2000      43       B     12   11"
            ]
          },
          "metadata": {
            "tags": []
          },
          "execution_count": 181
        }
      ]
    },
    {
      "cell_type": "code",
      "metadata": {
        "colab": {
          "base_uri": "https://localhost:8080/",
          "height": 206
        },
        "id": "NDlJWzuXFaIF",
        "outputId": "aaa51cb2-3a2e-4bae-ee58-5e4a49a36b16"
      },
      "source": [
        "val_set_X.head()"
      ],
      "execution_count": 182,
      "outputs": [
        {
          "output_type": "execute_result",
          "data": {
            "text/html": [
              "<div>\n",
              "<style scoped>\n",
              "    .dataframe tbody tr th:only-of-type {\n",
              "        vertical-align: middle;\n",
              "    }\n",
              "\n",
              "    .dataframe tbody tr th {\n",
              "        vertical-align: top;\n",
              "    }\n",
              "\n",
              "    .dataframe thead th {\n",
              "        text-align: right;\n",
              "    }\n",
              "</style>\n",
              "<table border=\"1\" class=\"dataframe\">\n",
              "  <thead>\n",
              "    <tr style=\"text-align: right;\">\n",
              "      <th></th>\n",
              "      <th>dayPart</th>\n",
              "      <th>distance</th>\n",
              "      <th>weight</th>\n",
              "      <th>carrier</th>\n",
              "      <th>Month</th>\n",
              "      <th>Day</th>\n",
              "    </tr>\n",
              "  </thead>\n",
              "  <tbody>\n",
              "    <tr>\n",
              "      <th>35099</th>\n",
              "      <td>night</td>\n",
              "      <td>2400</td>\n",
              "      <td>43</td>\n",
              "      <td>B</td>\n",
              "      <td>4</td>\n",
              "      <td>24</td>\n",
              "    </tr>\n",
              "    <tr>\n",
              "      <th>35100</th>\n",
              "      <td>day</td>\n",
              "      <td>2000</td>\n",
              "      <td>49</td>\n",
              "      <td>B</td>\n",
              "      <td>10</td>\n",
              "      <td>29</td>\n",
              "    </tr>\n",
              "    <tr>\n",
              "      <th>35101</th>\n",
              "      <td>night</td>\n",
              "      <td>2400</td>\n",
              "      <td>45</td>\n",
              "      <td>B</td>\n",
              "      <td>7</td>\n",
              "      <td>21</td>\n",
              "    </tr>\n",
              "    <tr>\n",
              "      <th>35102</th>\n",
              "      <td>day</td>\n",
              "      <td>2000</td>\n",
              "      <td>34</td>\n",
              "      <td>B</td>\n",
              "      <td>4</td>\n",
              "      <td>2</td>\n",
              "    </tr>\n",
              "    <tr>\n",
              "      <th>35103</th>\n",
              "      <td>night</td>\n",
              "      <td>800</td>\n",
              "      <td>18</td>\n",
              "      <td>A</td>\n",
              "      <td>1</td>\n",
              "      <td>26</td>\n",
              "    </tr>\n",
              "  </tbody>\n",
              "</table>\n",
              "</div>"
            ],
            "text/plain": [
              "      dayPart  distance  weight carrier  Month  Day\n",
              "35099   night      2400      43       B      4   24\n",
              "35100     day      2000      49       B     10   29\n",
              "35101   night      2400      45       B      7   21\n",
              "35102     day      2000      34       B      4    2\n",
              "35103   night       800      18       A      1   26"
            ]
          },
          "metadata": {
            "tags": []
          },
          "execution_count": 182
        }
      ]
    },
    {
      "cell_type": "code",
      "metadata": {
        "id": "5TbdYAUQqeNR"
      },
      "source": [
        "train_set_X_num=train_set_X.drop(columns=[\"dayPart\", \"carrier\"], axis=1)"
      ],
      "execution_count": 183,
      "outputs": []
    },
    {
      "cell_type": "code",
      "metadata": {
        "colab": {
          "base_uri": "https://localhost:8080/",
          "height": 206
        },
        "id": "lPMIPW48r6ee",
        "outputId": "28273a81-5d58-4087-ef24-19aa65167359"
      },
      "source": [
        "train_set_X_num.head()"
      ],
      "execution_count": 184,
      "outputs": [
        {
          "output_type": "execute_result",
          "data": {
            "text/html": [
              "<div>\n",
              "<style scoped>\n",
              "    .dataframe tbody tr th:only-of-type {\n",
              "        vertical-align: middle;\n",
              "    }\n",
              "\n",
              "    .dataframe tbody tr th {\n",
              "        vertical-align: top;\n",
              "    }\n",
              "\n",
              "    .dataframe thead th {\n",
              "        text-align: right;\n",
              "    }\n",
              "</style>\n",
              "<table border=\"1\" class=\"dataframe\">\n",
              "  <thead>\n",
              "    <tr style=\"text-align: right;\">\n",
              "      <th></th>\n",
              "      <th>distance</th>\n",
              "      <th>weight</th>\n",
              "      <th>Month</th>\n",
              "      <th>Day</th>\n",
              "    </tr>\n",
              "  </thead>\n",
              "  <tbody>\n",
              "    <tr>\n",
              "      <th>0</th>\n",
              "      <td>2200</td>\n",
              "      <td>50</td>\n",
              "      <td>9</td>\n",
              "      <td>6</td>\n",
              "    </tr>\n",
              "    <tr>\n",
              "      <th>1</th>\n",
              "      <td>1800</td>\n",
              "      <td>12</td>\n",
              "      <td>10</td>\n",
              "      <td>21</td>\n",
              "    </tr>\n",
              "    <tr>\n",
              "      <th>2</th>\n",
              "      <td>2800</td>\n",
              "      <td>1</td>\n",
              "      <td>7</td>\n",
              "      <td>15</td>\n",
              "    </tr>\n",
              "    <tr>\n",
              "      <th>3</th>\n",
              "      <td>3200</td>\n",
              "      <td>50</td>\n",
              "      <td>10</td>\n",
              "      <td>22</td>\n",
              "    </tr>\n",
              "    <tr>\n",
              "      <th>4</th>\n",
              "      <td>2000</td>\n",
              "      <td>43</td>\n",
              "      <td>12</td>\n",
              "      <td>11</td>\n",
              "    </tr>\n",
              "  </tbody>\n",
              "</table>\n",
              "</div>"
            ],
            "text/plain": [
              "   distance  weight  Month  Day\n",
              "0      2200      50      9    6\n",
              "1      1800      12     10   21\n",
              "2      2800       1      7   15\n",
              "3      3200      50     10   22\n",
              "4      2000      43     12   11"
            ]
          },
          "metadata": {
            "tags": []
          },
          "execution_count": 184
        }
      ]
    },
    {
      "cell_type": "code",
      "metadata": {
        "id": "o7gyvploqeoA"
      },
      "source": [
        "val_set_X_num=val_set_X.drop(columns=['dayPart', 'carrier'], axis=1)"
      ],
      "execution_count": 185,
      "outputs": []
    },
    {
      "cell_type": "code",
      "metadata": {
        "colab": {
          "base_uri": "https://localhost:8080/",
          "height": 206
        },
        "id": "2YPya5RdsPri",
        "outputId": "53b28531-4c17-492b-eeab-e411e5128292"
      },
      "source": [
        "val_set_X_num.head()"
      ],
      "execution_count": 186,
      "outputs": [
        {
          "output_type": "execute_result",
          "data": {
            "text/html": [
              "<div>\n",
              "<style scoped>\n",
              "    .dataframe tbody tr th:only-of-type {\n",
              "        vertical-align: middle;\n",
              "    }\n",
              "\n",
              "    .dataframe tbody tr th {\n",
              "        vertical-align: top;\n",
              "    }\n",
              "\n",
              "    .dataframe thead th {\n",
              "        text-align: right;\n",
              "    }\n",
              "</style>\n",
              "<table border=\"1\" class=\"dataframe\">\n",
              "  <thead>\n",
              "    <tr style=\"text-align: right;\">\n",
              "      <th></th>\n",
              "      <th>distance</th>\n",
              "      <th>weight</th>\n",
              "      <th>Month</th>\n",
              "      <th>Day</th>\n",
              "    </tr>\n",
              "  </thead>\n",
              "  <tbody>\n",
              "    <tr>\n",
              "      <th>35099</th>\n",
              "      <td>2400</td>\n",
              "      <td>43</td>\n",
              "      <td>4</td>\n",
              "      <td>24</td>\n",
              "    </tr>\n",
              "    <tr>\n",
              "      <th>35100</th>\n",
              "      <td>2000</td>\n",
              "      <td>49</td>\n",
              "      <td>10</td>\n",
              "      <td>29</td>\n",
              "    </tr>\n",
              "    <tr>\n",
              "      <th>35101</th>\n",
              "      <td>2400</td>\n",
              "      <td>45</td>\n",
              "      <td>7</td>\n",
              "      <td>21</td>\n",
              "    </tr>\n",
              "    <tr>\n",
              "      <th>35102</th>\n",
              "      <td>2000</td>\n",
              "      <td>34</td>\n",
              "      <td>4</td>\n",
              "      <td>2</td>\n",
              "    </tr>\n",
              "    <tr>\n",
              "      <th>35103</th>\n",
              "      <td>800</td>\n",
              "      <td>18</td>\n",
              "      <td>1</td>\n",
              "      <td>26</td>\n",
              "    </tr>\n",
              "  </tbody>\n",
              "</table>\n",
              "</div>"
            ],
            "text/plain": [
              "       distance  weight  Month  Day\n",
              "35099      2400      43      4   24\n",
              "35100      2000      49     10   29\n",
              "35101      2400      45      7   21\n",
              "35102      2000      34      4    2\n",
              "35103       800      18      1   26"
            ]
          },
          "metadata": {
            "tags": []
          },
          "execution_count": 186
        }
      ]
    },
    {
      "cell_type": "code",
      "metadata": {
        "id": "kSXh1uY51ek0"
      },
      "source": [
        "class DataFrameSelector(BaseEstimator, TransformerMixin):\n",
        "    def __init__(self, attribute_names):\n",
        "        self.attribute_names = attribute_names\n",
        "    def fit(self, X, y=None):\n",
        "        return self\n",
        "    def transform(self, X):\n",
        "        return X[self.attribute_names]"
      ],
      "execution_count": 187,
      "outputs": []
    },
    {
      "cell_type": "markdown",
      "metadata": {
        "id": "KukUxZmw1ek0"
      },
      "source": [
        "**Creating the piplines**"
      ]
    },
    {
      "cell_type": "code",
      "metadata": {
        "id": "_BWPD72L1ek0"
      },
      "source": [
        "cat_pipeline = Pipeline([\n",
        "        (\"selector\", DataFrameSelector(['carrier'])),\n",
        "        (\"cat_encoder\", CategoricalEncoder(encoding='onehot-dense')),\n",
        "    ])\n",
        "\n",
        "num_pipeline = Pipeline([\n",
        "        (\"selector\", DataFrameSelector(['distance','weight'])),\n",
        "        ('std_scaler', MinMaxScaler()),\n",
        "      ])\n",
        "\n",
        "no_pipeline = Pipeline([\n",
        "        (\"selector\", DataFrameSelector([\"dayPart\",\"Month\",\"Day\"]))\n",
        "    ])\n",
        "\n",
        "y_pipeline = Pipeline([\n",
        "        (\"selector\", DataFrameSelector(['cost'])),\n",
        "        ('std_scaler', StandardScaler()),\n",
        "      ])"
      ],
      "execution_count": 188,
      "outputs": []
    },
    {
      "cell_type": "markdown",
      "metadata": {
        "id": "XhbkI04B1ek0"
      },
      "source": [
        "**Full pipeline**"
      ]
    },
    {
      "cell_type": "code",
      "metadata": {
        "id": "tthLGOCc1ek0"
      },
      "source": [
        "full_pipeline_old = FeatureUnion(transformer_list=[\n",
        "    (\"no_pipeline\", no_pipeline),\n",
        "    (\"num_pipeline\", num_pipeline),\n",
        "    (\"cat_pipeline\", cat_pipeline),\n",
        "    ])\n"
      ],
      "execution_count": 189,
      "outputs": []
    },
    {
      "cell_type": "code",
      "metadata": {
        "id": "BV9BNRmaTPnn"
      },
      "source": [
        ""
      ],
      "execution_count": null,
      "outputs": []
    },
    {
      "cell_type": "markdown",
      "metadata": {
        "id": "GC99PaLmTZOx"
      },
      "source": [
        "Pipline for numerical attributes"
      ]
    },
    {
      "cell_type": "code",
      "metadata": {
        "id": "1fTD12DnTPxU"
      },
      "source": [
        "from sklearn.pipeline import Pipeline\n",
        "from sklearn.preprocessing import StandardScaler\n",
        "from sklearn.impute import SimpleImputer\n",
        "\n",
        "num_pipeline = Pipeline([(\"selector\", DataFrameSelector(['distance','weight'])),\n",
        "        ('imputer', SimpleImputer(strategy=\"median\")),\n",
        "        ('std_scaler', StandardScaler()),\n",
        "    ])\n",
        "\n",
        "df_num = num_pipeline.fit_transform(train_set_X_num)"
      ],
      "execution_count": 190,
      "outputs": []
    },
    {
      "cell_type": "code",
      "metadata": {
        "colab": {
          "base_uri": "https://localhost:8080/"
        },
        "id": "piwCn3-tmoAR",
        "outputId": "a94ea18e-df57-4e9c-da7e-d4fae03b025f"
      },
      "source": [
        "list(train_set_X_num.columns)"
      ],
      "execution_count": 191,
      "outputs": [
        {
          "output_type": "execute_result",
          "data": {
            "text/plain": [
              "['distance', 'weight', 'Month', 'Day']"
            ]
          },
          "metadata": {
            "tags": []
          },
          "execution_count": 191
        }
      ]
    },
    {
      "cell_type": "markdown",
      "metadata": {
        "id": "Kfx6l_gYwD4h"
      },
      "source": [
        "Pipeline for non-numerical attributes"
      ]
    },
    {
      "cell_type": "code",
      "metadata": {
        "id": "AQM4A3LIwB4V"
      },
      "source": [
        "non_num_pipeline=Pipeline([(\"selector\", DataFrameSelector(['Month', 'Day']))])"
      ],
      "execution_count": 199,
      "outputs": []
    },
    {
      "cell_type": "markdown",
      "metadata": {
        "id": "9yZZSRuSwDL7"
      },
      "source": [
        "Pipeline for categorical attributes"
      ]
    },
    {
      "cell_type": "code",
      "metadata": {
        "id": "KVTGdSuQw0NH"
      },
      "source": [
        "categorical_pipeline=Pipeline([(\"selector\", DataFrameSelector([\"dayPart\", \"carrier\"])),\n",
        "                               (\"categ\", OneHotEncoder())])"
      ],
      "execution_count": 201,
      "outputs": []
    },
    {
      "cell_type": "code",
      "metadata": {
        "id": "aNakjwjoTP1H"
      },
      "source": [
        "from sklearn.compose import ColumnTransformer\n",
        "\n",
        "num_attribs = ['distance','weight']#list(train_set_X_num.columns)\n",
        "cat_attribs = [\"dayPart\", \"carrier\"]\n",
        "nonnum_attribs=['Month', 'Day']\n",
        "\n",
        "full_pipeline = ColumnTransformer([\n",
        "        (\"num\", num_pipeline, num_attribs),\n",
        "        (\"nonum\", non_num_pipeline, nonnum_attribs),\n",
        "        (\"cat\", categorical_pipeline, cat_attribs)\n",
        "    ])\n",
        "\n",
        "df_prepared = full_pipeline.fit_transform(train_set_X)"
      ],
      "execution_count": 204,
      "outputs": []
    },
    {
      "cell_type": "code",
      "metadata": {
        "colab": {
          "base_uri": "https://localhost:8080/"
        },
        "id": "i6BdX-LnnvZI",
        "outputId": "2276d438-f4a7-4a1c-e8e9-539df601bcad"
      },
      "source": [
        "df_prepared"
      ],
      "execution_count": 205,
      "outputs": [
        {
          "output_type": "execute_result",
          "data": {
            "text/plain": [
              "array([[ 2.67720837e-01,  1.00343378e-01,  9.00000000e+00, ...,\n",
              "         0.00000000e+00,  0.00000000e+00,  1.00000000e+00],\n",
              "       [-2.81169823e-01, -4.01317846e-01,  1.00000000e+01, ...,\n",
              "         1.00000000e+00,  0.00000000e+00,  0.00000000e+00],\n",
              "       [ 1.09105683e+00, -5.46535569e-01,  7.00000000e+00, ...,\n",
              "         1.00000000e+00,  0.00000000e+00,  0.00000000e+00],\n",
              "       ...,\n",
              "       [-8.30060482e-01,  7.93210000e-03,  2.00000000e+00, ...,\n",
              "         0.00000000e+00,  0.00000000e+00,  1.00000000e+00],\n",
              "       [-8.30060482e-01, -3.22108179e-01,  1.20000000e+01, ...,\n",
              "         1.00000000e+00,  0.00000000e+00,  0.00000000e+00],\n",
              "       [-6.72449311e-03, -4.67325902e-01,  1.10000000e+01, ...,\n",
              "         1.00000000e+00,  0.00000000e+00,  0.00000000e+00]])"
            ]
          },
          "metadata": {
            "tags": []
          },
          "execution_count": 205
        }
      ]
    },
    {
      "cell_type": "code",
      "metadata": {
        "id": "9n53_zFWnwJc"
      },
      "source": [
        "df_prepared_toDF = pd.DataFrame(df_prepared)"
      ],
      "execution_count": 206,
      "outputs": []
    },
    {
      "cell_type": "code",
      "metadata": {
        "id": "O3JO3Xd4TP4h"
      },
      "source": [
        "#df_train_copy#"
      ],
      "execution_count": 155,
      "outputs": []
    },
    {
      "cell_type": "code",
      "metadata": {
        "colab": {
          "base_uri": "https://localhost:8080/",
          "height": 206
        },
        "id": "-RpDMuQNTP8Q",
        "outputId": "957e126b-4e5d-457f-8bf2-f2a0132d2335"
      },
      "source": [
        "df_prepared_toDF.head()"
      ],
      "execution_count": 207,
      "outputs": [
        {
          "output_type": "execute_result",
          "data": {
            "text/html": [
              "<div>\n",
              "<style scoped>\n",
              "    .dataframe tbody tr th:only-of-type {\n",
              "        vertical-align: middle;\n",
              "    }\n",
              "\n",
              "    .dataframe tbody tr th {\n",
              "        vertical-align: top;\n",
              "    }\n",
              "\n",
              "    .dataframe thead th {\n",
              "        text-align: right;\n",
              "    }\n",
              "</style>\n",
              "<table border=\"1\" class=\"dataframe\">\n",
              "  <thead>\n",
              "    <tr style=\"text-align: right;\">\n",
              "      <th></th>\n",
              "      <th>0</th>\n",
              "      <th>1</th>\n",
              "      <th>2</th>\n",
              "      <th>3</th>\n",
              "      <th>4</th>\n",
              "      <th>5</th>\n",
              "      <th>6</th>\n",
              "      <th>7</th>\n",
              "      <th>8</th>\n",
              "      <th>9</th>\n",
              "    </tr>\n",
              "  </thead>\n",
              "  <tbody>\n",
              "    <tr>\n",
              "      <th>0</th>\n",
              "      <td>0.267721</td>\n",
              "      <td>0.100343</td>\n",
              "      <td>9.0</td>\n",
              "      <td>6.0</td>\n",
              "      <td>0.0</td>\n",
              "      <td>1.0</td>\n",
              "      <td>0.0</td>\n",
              "      <td>0.0</td>\n",
              "      <td>0.0</td>\n",
              "      <td>1.0</td>\n",
              "    </tr>\n",
              "    <tr>\n",
              "      <th>1</th>\n",
              "      <td>-0.281170</td>\n",
              "      <td>-0.401318</td>\n",
              "      <td>10.0</td>\n",
              "      <td>21.0</td>\n",
              "      <td>0.0</td>\n",
              "      <td>1.0</td>\n",
              "      <td>0.0</td>\n",
              "      <td>1.0</td>\n",
              "      <td>0.0</td>\n",
              "      <td>0.0</td>\n",
              "    </tr>\n",
              "    <tr>\n",
              "      <th>2</th>\n",
              "      <td>1.091057</td>\n",
              "      <td>-0.546536</td>\n",
              "      <td>7.0</td>\n",
              "      <td>15.0</td>\n",
              "      <td>0.0</td>\n",
              "      <td>1.0</td>\n",
              "      <td>0.0</td>\n",
              "      <td>1.0</td>\n",
              "      <td>0.0</td>\n",
              "      <td>0.0</td>\n",
              "    </tr>\n",
              "    <tr>\n",
              "      <th>3</th>\n",
              "      <td>1.639947</td>\n",
              "      <td>0.100343</td>\n",
              "      <td>10.0</td>\n",
              "      <td>22.0</td>\n",
              "      <td>1.0</td>\n",
              "      <td>0.0</td>\n",
              "      <td>0.0</td>\n",
              "      <td>0.0</td>\n",
              "      <td>1.0</td>\n",
              "      <td>0.0</td>\n",
              "    </tr>\n",
              "    <tr>\n",
              "      <th>4</th>\n",
              "      <td>-0.006724</td>\n",
              "      <td>0.007932</td>\n",
              "      <td>12.0</td>\n",
              "      <td>11.0</td>\n",
              "      <td>1.0</td>\n",
              "      <td>0.0</td>\n",
              "      <td>0.0</td>\n",
              "      <td>1.0</td>\n",
              "      <td>0.0</td>\n",
              "      <td>0.0</td>\n",
              "    </tr>\n",
              "  </tbody>\n",
              "</table>\n",
              "</div>"
            ],
            "text/plain": [
              "          0         1     2     3    4    5    6    7    8    9\n",
              "0  0.267721  0.100343   9.0   6.0  0.0  1.0  0.0  0.0  0.0  1.0\n",
              "1 -0.281170 -0.401318  10.0  21.0  0.0  1.0  0.0  1.0  0.0  0.0\n",
              "2  1.091057 -0.546536   7.0  15.0  0.0  1.0  0.0  1.0  0.0  0.0\n",
              "3  1.639947  0.100343  10.0  22.0  1.0  0.0  0.0  0.0  1.0  0.0\n",
              "4 -0.006724  0.007932  12.0  11.0  1.0  0.0  0.0  1.0  0.0  0.0"
            ]
          },
          "metadata": {
            "tags": []
          },
          "execution_count": 207
        }
      ]
    },
    {
      "cell_type": "code",
      "metadata": {
        "id": "F75PHoivTP_q"
      },
      "source": [
        ""
      ],
      "execution_count": null,
      "outputs": []
    },
    {
      "cell_type": "code",
      "metadata": {
        "id": "VxhGj6AwTQFi"
      },
      "source": [
        ""
      ],
      "execution_count": null,
      "outputs": []
    },
    {
      "cell_type": "code",
      "metadata": {
        "id": "5iG6U4aC1ek0"
      },
      "source": [
        "final_train_X = full_pipeline.fit_transform(train_set_X)\n",
        "final_val_X = full_pipeline.transform(val_set_X)\n",
        "\n",
        "final_train_y = y_pipeline.fit_transform(pd.DataFrame(train_set_y))\n",
        "final_val_y = y_pipeline.transform(pd.DataFrame(val_set_y))"
      ],
      "execution_count": 208,
      "outputs": []
    },
    {
      "cell_type": "code",
      "metadata": {
        "id": "CTUUWFsx1ek0",
        "colab": {
          "base_uri": "https://localhost:8080/",
          "height": 206
        },
        "outputId": "caa34292-8d8d-4e9e-f493-15bd26c266ac"
      },
      "source": [
        "df1=pd.DataFrame(final_train_X)\n",
        "df1.head()"
      ],
      "execution_count": 209,
      "outputs": [
        {
          "output_type": "execute_result",
          "data": {
            "text/html": [
              "<div>\n",
              "<style scoped>\n",
              "    .dataframe tbody tr th:only-of-type {\n",
              "        vertical-align: middle;\n",
              "    }\n",
              "\n",
              "    .dataframe tbody tr th {\n",
              "        vertical-align: top;\n",
              "    }\n",
              "\n",
              "    .dataframe thead th {\n",
              "        text-align: right;\n",
              "    }\n",
              "</style>\n",
              "<table border=\"1\" class=\"dataframe\">\n",
              "  <thead>\n",
              "    <tr style=\"text-align: right;\">\n",
              "      <th></th>\n",
              "      <th>0</th>\n",
              "      <th>1</th>\n",
              "      <th>2</th>\n",
              "      <th>3</th>\n",
              "      <th>4</th>\n",
              "      <th>5</th>\n",
              "      <th>6</th>\n",
              "      <th>7</th>\n",
              "      <th>8</th>\n",
              "      <th>9</th>\n",
              "    </tr>\n",
              "  </thead>\n",
              "  <tbody>\n",
              "    <tr>\n",
              "      <th>0</th>\n",
              "      <td>0.267721</td>\n",
              "      <td>0.100343</td>\n",
              "      <td>9.0</td>\n",
              "      <td>6.0</td>\n",
              "      <td>0.0</td>\n",
              "      <td>1.0</td>\n",
              "      <td>0.0</td>\n",
              "      <td>0.0</td>\n",
              "      <td>0.0</td>\n",
              "      <td>1.0</td>\n",
              "    </tr>\n",
              "    <tr>\n",
              "      <th>1</th>\n",
              "      <td>-0.281170</td>\n",
              "      <td>-0.401318</td>\n",
              "      <td>10.0</td>\n",
              "      <td>21.0</td>\n",
              "      <td>0.0</td>\n",
              "      <td>1.0</td>\n",
              "      <td>0.0</td>\n",
              "      <td>1.0</td>\n",
              "      <td>0.0</td>\n",
              "      <td>0.0</td>\n",
              "    </tr>\n",
              "    <tr>\n",
              "      <th>2</th>\n",
              "      <td>1.091057</td>\n",
              "      <td>-0.546536</td>\n",
              "      <td>7.0</td>\n",
              "      <td>15.0</td>\n",
              "      <td>0.0</td>\n",
              "      <td>1.0</td>\n",
              "      <td>0.0</td>\n",
              "      <td>1.0</td>\n",
              "      <td>0.0</td>\n",
              "      <td>0.0</td>\n",
              "    </tr>\n",
              "    <tr>\n",
              "      <th>3</th>\n",
              "      <td>1.639947</td>\n",
              "      <td>0.100343</td>\n",
              "      <td>10.0</td>\n",
              "      <td>22.0</td>\n",
              "      <td>1.0</td>\n",
              "      <td>0.0</td>\n",
              "      <td>0.0</td>\n",
              "      <td>0.0</td>\n",
              "      <td>1.0</td>\n",
              "      <td>0.0</td>\n",
              "    </tr>\n",
              "    <tr>\n",
              "      <th>4</th>\n",
              "      <td>-0.006724</td>\n",
              "      <td>0.007932</td>\n",
              "      <td>12.0</td>\n",
              "      <td>11.0</td>\n",
              "      <td>1.0</td>\n",
              "      <td>0.0</td>\n",
              "      <td>0.0</td>\n",
              "      <td>1.0</td>\n",
              "      <td>0.0</td>\n",
              "      <td>0.0</td>\n",
              "    </tr>\n",
              "  </tbody>\n",
              "</table>\n",
              "</div>"
            ],
            "text/plain": [
              "          0         1     2     3    4    5    6    7    8    9\n",
              "0  0.267721  0.100343   9.0   6.0  0.0  1.0  0.0  0.0  0.0  1.0\n",
              "1 -0.281170 -0.401318  10.0  21.0  0.0  1.0  0.0  1.0  0.0  0.0\n",
              "2  1.091057 -0.546536   7.0  15.0  0.0  1.0  0.0  1.0  0.0  0.0\n",
              "3  1.639947  0.100343  10.0  22.0  1.0  0.0  0.0  0.0  1.0  0.0\n",
              "4 -0.006724  0.007932  12.0  11.0  1.0  0.0  0.0  1.0  0.0  0.0"
            ]
          },
          "metadata": {
            "tags": []
          },
          "execution_count": 209
        }
      ]
    },
    {
      "cell_type": "markdown",
      "metadata": {
        "id": "RS2kKwyV1ek0"
      },
      "source": [
        "### Select and train the model"
      ]
    },
    {
      "cell_type": "code",
      "metadata": {
        "id": "E9WPNHvo1ek0",
        "colab": {
          "base_uri": "https://localhost:8080/"
        },
        "outputId": "9bb66f36-877d-43b9-95f6-80807f990826"
      },
      "source": [
        "from sklearn.linear_model import LinearRegression\n",
        "\n",
        "lin_reg = LinearRegression()\n",
        "lin_reg.fit(final_train_X, final_train_y)"
      ],
      "execution_count": 210,
      "outputs": [
        {
          "output_type": "execute_result",
          "data": {
            "text/plain": [
              "LinearRegression(copy_X=True, fit_intercept=True, n_jobs=None, normalize=False)"
            ]
          },
          "metadata": {
            "tags": []
          },
          "execution_count": 210
        }
      ]
    },
    {
      "cell_type": "code",
      "metadata": {
        "id": "Mmasm9O21ek0"
      },
      "source": [
        ""
      ],
      "execution_count": null,
      "outputs": []
    }
  ]
}